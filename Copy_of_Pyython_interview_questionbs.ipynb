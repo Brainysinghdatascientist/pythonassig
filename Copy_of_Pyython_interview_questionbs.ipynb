{
  "nbformat": 4,
  "nbformat_minor": 0,
  "metadata": {
    "colab": {
      "provenance": []
    },
    "kernelspec": {
      "name": "python3",
      "display_name": "Python 3"
    },
    "language_info": {
      "name": "python"
    }
  },
  "cells": [
    {
      "cell_type": "markdown",
      "source": [
        "Write a Python program which accepts a sequence of comma-separated numbers from user and generate a list and a tuple with those numbers."
      ],
      "metadata": {
        "id": "ui2ixsVCTinp"
      }
    },
    {
      "cell_type": "code",
      "source": [
        "values = input(\"Input some comma seprated numbers : \")\n",
        "list = values.split(\",\")\n",
        "tuple =  tuple(list)\n",
        "print('List : ',list) \n",
        "print('Tuple : ',tuple)"
      ],
      "metadata": {
        "id": "lZZQqqa9Vwr-",
        "colab": {
          "base_uri": "https://localhost:8080/",
          "height": 252
        },
        "outputId": "bd9b4c7d-68d4-4a00-b4e3-87ab5f00dace"
      },
      "execution_count": null,
      "outputs": [
        {
          "name": "stdout",
          "output_type": "stream",
          "text": [
            "Input some comma seprated numbers : 3\n"
          ]
        },
        {
          "output_type": "error",
          "ename": "TypeError",
          "evalue": "ignored",
          "traceback": [
            "\u001b[0;31m---------------------------------------------------------------------------\u001b[0m",
            "\u001b[0;31mTypeError\u001b[0m                                 Traceback (most recent call last)",
            "\u001b[0;32m<ipython-input-8-cf555234a92b>\u001b[0m in \u001b[0;36m<module>\u001b[0;34m\u001b[0m\n\u001b[1;32m      1\u001b[0m \u001b[0mvalues\u001b[0m \u001b[0;34m=\u001b[0m \u001b[0minput\u001b[0m\u001b[0;34m(\u001b[0m\u001b[0;34m\"Input some comma seprated numbers : \"\u001b[0m\u001b[0;34m)\u001b[0m\u001b[0;34m\u001b[0m\u001b[0;34m\u001b[0m\u001b[0m\n\u001b[1;32m      2\u001b[0m \u001b[0mlist\u001b[0m \u001b[0;34m=\u001b[0m \u001b[0mvalues\u001b[0m\u001b[0;34m.\u001b[0m\u001b[0msplit\u001b[0m\u001b[0;34m(\u001b[0m\u001b[0;34m\",\"\u001b[0m\u001b[0;34m)\u001b[0m\u001b[0;34m\u001b[0m\u001b[0;34m\u001b[0m\u001b[0m\n\u001b[0;32m----> 3\u001b[0;31m \u001b[0mtuple\u001b[0m \u001b[0;34m=\u001b[0m  \u001b[0mtuple\u001b[0m\u001b[0;34m(\u001b[0m\u001b[0mlist\u001b[0m\u001b[0;34m)\u001b[0m\u001b[0;34m\u001b[0m\u001b[0;34m\u001b[0m\u001b[0m\n\u001b[0m\u001b[1;32m      4\u001b[0m \u001b[0mprint\u001b[0m\u001b[0;34m(\u001b[0m\u001b[0;34m'List : '\u001b[0m\u001b[0;34m,\u001b[0m\u001b[0mlist\u001b[0m\u001b[0;34m)\u001b[0m\u001b[0;34m\u001b[0m\u001b[0;34m\u001b[0m\u001b[0m\n\u001b[1;32m      5\u001b[0m \u001b[0mprint\u001b[0m\u001b[0;34m(\u001b[0m\u001b[0;34m'Tuple : '\u001b[0m\u001b[0;34m,\u001b[0m\u001b[0mtuple\u001b[0m\u001b[0;34m)\u001b[0m\u001b[0;34m\u001b[0m\u001b[0;34m\u001b[0m\u001b[0m\n",
            "\u001b[0;31mTypeError\u001b[0m: 'tuple' object is not callable"
          ]
        }
      ]
    },
    {
      "cell_type": "markdown",
      "source": [
        "Write a Python program to display the first and last colors from the following list.\n"
      ],
      "metadata": {
        "id": "V99_1pOaXF5T"
      }
    },
    {
      "cell_type": "code",
      "source": [
        "color_list = [\"Red\",\"Green\",\"White\" ,\"Black\"]\n",
        "print(\"First and Last color_list\", color_list[0],color_list[-1])"
      ],
      "metadata": {
        "id": "Mm9AwOpNyARM",
        "colab": {
          "base_uri": "https://localhost:8080/"
        },
        "outputId": "ab45269f-551f-4f5e-e47d-63c6f2cc62f3"
      },
      "execution_count": null,
      "outputs": [
        {
          "output_type": "stream",
          "name": "stdout",
          "text": [
            "First and Last color_list Red Black\n"
          ]
        }
      ]
    },
    {
      "cell_type": "markdown",
      "source": [
        "Write a Python program to count the number 4 in a given list."
      ],
      "metadata": {
        "id": "V74Hbp3iZMZ5"
      }
    },
    {
      "cell_type": "code",
      "source": [
        "list=[1,2,3,3,3,3,3,3,4,4,4,4,4,4,4,4,4]\n",
        "count=0\n",
        "for i in list:\n",
        "  if i==3:\n",
        "    count+=1\n",
        "print(count)"
      ],
      "metadata": {
        "id": "gOAqN8oVyAW_",
        "colab": {
          "base_uri": "https://localhost:8080/"
        },
        "outputId": "d047954f-ce3f-4b03-f9f4-bc8bbf40f7df"
      },
      "execution_count": null,
      "outputs": [
        {
          "output_type": "stream",
          "name": "stdout",
          "text": [
            "6\n"
          ]
        }
      ]
    },
    {
      "cell_type": "markdown",
      "source": [
        "Write a Python program to sum of two given integers. However, if the sum is between 15 to 20 it will return 20.\n"
      ],
      "metadata": {
        "id": "uQolgewvbRO6"
      }
    },
    {
      "cell_type": "code",
      "source": [
        "def sum(x, y):\n",
        "    sum = x + y\n",
        "    if sum in range(15, 20):\n",
        "        return 20\n",
        "    else:\n",
        "        return sum\n",
        "\n",
        "print(sum(10, 6))\n",
        "print(sum(10, 2))\n",
        "print(sum(10, 12))"
      ],
      "metadata": {
        "id": "U6y7RiG5yAcT",
        "colab": {
          "base_uri": "https://localhost:8080/"
        },
        "outputId": "b27b1ce3-b821-4ba3-e4d2-ebad308bd0a6"
      },
      "execution_count": null,
      "outputs": [
        {
          "output_type": "stream",
          "name": "stdout",
          "text": [
            "20\n",
            "12\n",
            "22\n"
          ]
        }
      ]
    },
    {
      "cell_type": "markdown",
      "source": [
        "Write a Python program to compute the distance between the points (x1, y1) and (x2, y2).\n",
        "\n"
      ],
      "metadata": {
        "id": "XeqLsWFCbWza"
      }
    },
    {
      "cell_type": "code",
      "source": [
        "import math\n",
        "p1 = [4, 0]\n",
        "p2 = [6, 6]\n",
        "distance = math.sqrt( ((p1[0]-p2[0])**2)+((p1[1]-p2[1])**2) )\n",
        "\n",
        "print(distance)"
      ],
      "metadata": {
        "id": "_0cKgF7LyAhu",
        "colab": {
          "base_uri": "https://localhost:8080/"
        },
        "outputId": "2415e59e-e5d5-4c1a-89cc-5f778399d908"
      },
      "execution_count": null,
      "outputs": [
        {
          "output_type": "stream",
          "name": "stdout",
          "text": [
            "6.324555320336759\n"
          ]
        }
      ]
    },
    {
      "cell_type": "markdown",
      "source": [
        "Write a Python program to sum of the first n positive integers."
      ],
      "metadata": {
        "id": "L3KVsgI2c0-G"
      }
    },
    {
      "cell_type": "code",
      "source": [
        "n=int(input())\n",
        "sum=(n*(n+1))/2\n",
        "print(\"Sum of first n numbers\",sum)"
      ],
      "metadata": {
        "id": "kptpR_NayAl2",
        "colab": {
          "base_uri": "https://localhost:8080/"
        },
        "outputId": "5ca383a5-13a5-498f-ac30-e19455dbf536"
      },
      "execution_count": null,
      "outputs": [
        {
          "output_type": "stream",
          "name": "stdout",
          "text": [
            "5\n",
            "Sum of first n numbers 15.0\n"
          ]
        }
      ]
    },
    {
      "cell_type": "markdown",
      "source": [
        "Write a Python program to calculate sum of digits of a number."
      ],
      "metadata": {
        "id": "5AdCFEvAj79A"
      }
    },
    {
      "cell_type": "code",
      "source": [
        "n=int(input())\n",
        "x=n//1000\n",
        "x1=(n-x*1000)//100\n",
        "x2=(n-x*1000-x1*100)//10\n",
        "x3=(n-x*1000-x1*100-x2*10)\n",
        "print(\"Sum of digit of four digits number\",x+x1+x2+x3)"
      ],
      "metadata": {
        "id": "Mj3ZrISatw9Z",
        "colab": {
          "base_uri": "https://localhost:8080/"
        },
        "outputId": "cd03cce9-3a39-4db5-a870-56459884d2e3"
      },
      "execution_count": null,
      "outputs": [
        {
          "output_type": "stream",
          "name": "stdout",
          "text": [
            "5676\n",
            "Sum of digit of four digits number 24\n"
          ]
        }
      ]
    },
    {
      "cell_type": "markdown",
      "source": [
        "Write a Python program to count the number of occurrence of a specific character in a string."
      ],
      "metadata": {
        "id": "AW6asywEAHVi"
      }
    },
    {
      "cell_type": "code",
      "source": [
        "s = \"The quick brown fox jumps over the lazy dog.\"  \n",
        "print(\"Original string:\")\n",
        "print(s)\n",
        "print(\"Number of occurrence of 'o' in the said string:\")\n",
        "print(s.count(\"o\"))"
      ],
      "metadata": {
        "id": "QZG7kfCFtxBm",
        "colab": {
          "base_uri": "https://localhost:8080/"
        },
        "outputId": "fe53bd78-ee42-4ce6-a8a0-18e07919e703"
      },
      "execution_count": null,
      "outputs": [
        {
          "output_type": "stream",
          "name": "stdout",
          "text": [
            "Original string:\n",
            "The quick brown fox jumps over the lazy dog.\n",
            "Number of occurrence of 'o' in the said string:\n",
            "4\n"
          ]
        }
      ]
    },
    {
      "cell_type": "markdown",
      "source": [
        "Write a Python program to filter the positive numbers from a list."
      ],
      "metadata": {
        "id": "nQNTqVqyAqZG"
      }
    },
    {
      "cell_type": "code",
      "source": [
        "# Python program to print positive Numbers in a List\n",
        "\n",
        "# list of numbers\n",
        "l1 = [-10, 21, 4, -45, -66, 93, -11]\n",
        "num=[]\n",
        "for i in l1:\n",
        "  if i>0:\n",
        "    num.append(i)\n",
        "    i+=1\n",
        "print(num)\n",
        "\n"
      ],
      "metadata": {
        "id": "GVPVvLTMsSzB",
        "colab": {
          "base_uri": "https://localhost:8080/"
        },
        "outputId": "20d4bc61-ae10-4132-a245-b3d80e7f0c59"
      },
      "execution_count": null,
      "outputs": [
        {
          "output_type": "stream",
          "name": "stdout",
          "text": [
            "[21, 4, 93]\n"
          ]
        }
      ]
    },
    {
      "cell_type": "markdown",
      "source": [
        "Write a Python function to find the maximum and minimum numbers from a sequence of numbers.\n",
        "Note: Do not use built-in functions."
      ],
      "metadata": {
        "id": "e6DZhUoqGf01"
      }
    },
    {
      "cell_type": "code",
      "source": [
        "data=[0,-1,2,2,2,3,4,5,5,65,6,-99]\n",
        "l = data[0]\n",
        "s = data[0]\n",
        "for num in data:\n",
        "  if num> l:\n",
        "    l = num\n",
        "  elif num< s:\n",
        "       s = num\n",
        "print(l,s) "
      ],
      "metadata": {
        "id": "sXY5r-N2aLYq",
        "colab": {
          "base_uri": "https://localhost:8080/"
        },
        "outputId": "5e402407-736f-4923-e9b5-6127e81e3096"
      },
      "execution_count": null,
      "outputs": [
        {
          "output_type": "stream",
          "name": "stdout",
          "text": [
            "65 -99\n"
          ]
        }
      ]
    },
    {
      "cell_type": "code",
      "source": [
        "def count_Primes_nums(n):\n",
        "    ctr = 0\n",
        "    \n",
        "    for num in range(n):\n",
        "        if num <= 1:\n",
        "            continue\n",
        "        for i in range(2, num):\n",
        "            if (num % i) == 0:\n",
        "                break\n",
        "        else:\n",
        "            ctr += 1\n",
        "\n",
        "    return ctr\n",
        "\n",
        "print(count_Primes_nums(10))\n",
        "print(count_Primes_nums(100))"
      ],
      "metadata": {
        "id": "BPKsTIy_aLbm",
        "colab": {
          "base_uri": "https://localhost:8080/"
        },
        "outputId": "40fcdf3e-83d5-4eeb-c716-2cea184f01f9"
      },
      "execution_count": null,
      "outputs": [
        {
          "output_type": "stream",
          "name": "stdout",
          "text": [
            "4\n",
            "25\n"
          ]
        }
      ]
    },
    {
      "cell_type": "code",
      "source": [],
      "metadata": {
        "id": "7PE4i-GJaLez"
      },
      "execution_count": null,
      "outputs": []
    },
    {
      "cell_type": "markdown",
      "source": [
        "Python: Check whether a given integer is a palindrome or not"
      ],
      "metadata": {
        "id": "bugjj6tbdpQp"
      }
    },
    {
      "cell_type": "code",
      "source": [
        "def is_Palindrome(n):\n",
        "    return str(n) == str(n)[::-1]\n",
        "print(is_Palindrome(100))\n",
        "print(is_Palindrome(252))\n",
        "print(is_Palindrome(-838)) "
      ],
      "metadata": {
        "id": "UiWozBUwaLiL",
        "colab": {
          "base_uri": "https://localhost:8080/"
        },
        "outputId": "ec67441d-a102-4fed-cee6-69ca1779edf3"
      },
      "execution_count": null,
      "outputs": [
        {
          "output_type": "stream",
          "name": "stdout",
          "text": [
            "False\n",
            "True\n",
            "False\n"
          ]
        }
      ]
    },
    {
      "cell_type": "markdown",
      "source": [
        "Python: Calculate the length of a string\n"
      ],
      "metadata": {
        "id": "LlAbIwWmMuRE"
      }
    },
    {
      "cell_type": "code",
      "source": [
        "s=\"sksjskjskjsj\"\n",
        "count=0\n",
        "for i in s:\n",
        "  count+=1\n",
        "print(count)"
      ],
      "metadata": {
        "id": "KP4MjQ7TaLlj",
        "colab": {
          "base_uri": "https://localhost:8080/"
        },
        "outputId": "40f3d9f9-b780-4542-f4ca-4802f4240105"
      },
      "execution_count": null,
      "outputs": [
        {
          "output_type": "stream",
          "name": "stdout",
          "text": [
            "12\n"
          ]
        }
      ]
    },
    {
      "cell_type": "markdown",
      "source": [
        "Python: Count the number of characters (character frequency) in a string"
      ],
      "metadata": {
        "id": "P6D6gy47NfaB"
      }
    },
    {
      "cell_type": "code",
      "source": [
        "s=\"sandeepamardeepanchalrameshgaytri\"\n",
        "dict={}\n",
        "for i in s:\n",
        " keys=dict.keys()\n",
        " if i in keys:\n",
        "   dict[i]+=1\n",
        " else:\n",
        "   dict[i]=1\n",
        "print(dict)"
      ],
      "metadata": {
        "id": "06yXqUA-aLo8",
        "colab": {
          "base_uri": "https://localhost:8080/"
        },
        "outputId": "81492320-39d8-47fc-ee83-8b5091cbf13a"
      },
      "execution_count": null,
      "outputs": [
        {
          "output_type": "stream",
          "name": "stdout",
          "text": [
            "{'s': 2, 'a': 7, 'n': 2, 'd': 2, 'e': 5, 'p': 2, 'm': 2, 'r': 3, 'c': 1, 'h': 2, 'l': 1, 'g': 1, 'y': 1, 't': 1, 'i': 1}\n"
          ]
        }
      ]
    },
    {
      "cell_type": "markdown",
      "source": [
        "Python: Takes a list of words and returns the length of the longest one"
      ],
      "metadata": {
        "id": "Ey3kMmH5hp4o"
      }
    },
    {
      "cell_type": "code",
      "source": [
        "Word_list=[\"PHP\", \"Exercises\", \"Backend\"]\n",
        "Word_lengh=[]\n",
        "for n in Word_list:\n",
        "  Word_lengh.append((len(n),n))\n",
        "Word_lengh.sort()\n",
        "print(Word_lengh[-1][0],Word_lengh[-1][1])\n"
      ],
      "metadata": {
        "id": "p-TU5in-aLsf",
        "colab": {
          "base_uri": "https://localhost:8080/"
        },
        "outputId": "fd37fb81-ef7f-4c0c-c0af-368b72a4b941"
      },
      "execution_count": null,
      "outputs": [
        {
          "output_type": "stream",
          "name": "stdout",
          "text": [
            "9 Exercises\n"
          ]
        }
      ]
    },
    {
      "cell_type": "markdown",
      "source": [
        "Python: Count the occurrences of each word in a given sentence"
      ],
      "metadata": {
        "id": "kkQTc14lnzMw"
      }
    },
    {
      "cell_type": "code",
      "source": [
        "Sentence='the quick brown fox jumps over the lazy dog.'\n",
        "dict={}\n",
        "new_sentence=Sentence.split()\n",
        "for i in new_sentence:\n",
        "  keys=dict.keys()\n",
        "  if i in keys:\n",
        "    dict[i]+=1\n",
        "  else:\n",
        "    dict[i]=1\n",
        "print(dict)\n",
        "\n",
        "\n"
      ],
      "metadata": {
        "id": "73czgpotaLwR",
        "colab": {
          "base_uri": "https://localhost:8080/"
        },
        "outputId": "37d2047a-a97c-452a-c418-ae69b9e00ffd"
      },
      "execution_count": null,
      "outputs": [
        {
          "output_type": "stream",
          "name": "stdout",
          "text": [
            "{'the': 2, 'quick': 1, 'brown': 1, 'fox': 1, 'jumps': 1, 'over': 1, 'lazy': 1, 'dog.': 1}\n"
          ]
        }
      ]
    },
    {
      "cell_type": "markdown",
      "source": [
        "Python: Convert a given string into a list of words"
      ],
      "metadata": {
        "id": "jgxAcriNtdit"
      }
    },
    {
      "cell_type": "code",
      "source": [
        "str1 = \"The quick brown fox jumps over the lazy dog.\"\n",
        "print(str1.split(' '))"
      ],
      "metadata": {
        "id": "J8XRhKSbaLzb",
        "colab": {
          "base_uri": "https://localhost:8080/"
        },
        "outputId": "8246c420-856a-4ca7-9de9-67d7f46de927"
      },
      "execution_count": null,
      "outputs": [
        {
          "output_type": "stream",
          "name": "stdout",
          "text": [
            "['The', 'quick', 'brown', 'fox', 'jumps', 'over', 'the', 'lazy', 'dog.']\n"
          ]
        }
      ]
    },
    {
      "cell_type": "markdown",
      "source": [
        "Python: Count and display the vowels of a given text"
      ],
      "metadata": {
        "id": "HtLywUh4vJ_l"
      }
    },
    {
      "cell_type": "code",
      "source": [
        "text='w3resource'\n",
        "vowels = \"aeiuoAEIOU\"\n",
        "print(len([letter for letter in text if letter in vowels]))\n",
        "print([letter for letter in text if letter in vowels])"
      ],
      "metadata": {
        "id": "3AZ02RB7aL2y",
        "colab": {
          "base_uri": "https://localhost:8080/"
        },
        "outputId": "15ae6908-f3b2-4dea-9315-2a5cb50869dc"
      },
      "execution_count": null,
      "outputs": [
        {
          "output_type": "stream",
          "name": "stdout",
          "text": [
            "4\n",
            "['e', 'o', 'u', 'e']\n"
          ]
        }
      ]
    },
    {
      "cell_type": "markdown",
      "source": [
        "Python: Count number of lists in a given list of lists"
      ],
      "metadata": {
        "id": "0_e8BuCEMXvI"
      }
    },
    {
      "cell_type": "code",
      "source": [
        "list1 = [[1, 3], [5, 7], [9, 11], [13, 15, 17]] \n",
        "print(\"Number of list presents :\")\n",
        "print(len(list1))"
      ],
      "metadata": {
        "id": "8JrMcb5TaL6W",
        "colab": {
          "base_uri": "https://localhost:8080/"
        },
        "outputId": "19bc44e4-9936-4e08-fe3a-bc290d9b04ae"
      },
      "execution_count": null,
      "outputs": [
        {
          "output_type": "stream",
          "name": "stdout",
          "text": [
            "Number of list presents :\n",
            "4\n"
          ]
        }
      ]
    },
    {
      "cell_type": "markdown",
      "source": [
        "Python: Find the list with maximum and minimum length"
      ],
      "metadata": {
        "id": "mvLBHBMvTbUU"
      }
    },
    {
      "cell_type": "code",
      "source": [
        "list1 = [[0], [1, 3], [5, 7], [9, 11], [13, 15, 17]]\n",
        "for x in list1:\n",
        "  \n",
        "  min_of_list=min(list1)\n",
        "  length_of_minlist=len(min_of_list)\n",
        " \n",
        "  max_of_list=max(list1)\n",
        "  length_of_maxlist=len(max_of_list)\n",
        "\n",
        "print(length_of_minlist,min_of_list,length_of_maxlist,max_of_list)"
      ],
      "metadata": {
        "id": "4gqWMh7iaL91",
        "colab": {
          "base_uri": "https://localhost:8080/"
        },
        "outputId": "c497e528-7e67-4d49-d927-d5f356679e44"
      },
      "execution_count": null,
      "outputs": [
        {
          "output_type": "stream",
          "name": "stdout",
          "text": [
            "1 [0] 3 [13, 15, 17]\n"
          ]
        }
      ]
    },
    {
      "cell_type": "markdown",
      "source": [
        "Python: Count the number of sublists contain a particular element"
      ],
      "metadata": {
        "id": "C5FPD16qXDg_"
      }
    },
    {
      "cell_type": "code",
      "source": [
        "list1 = [[1, 3], [5, 7,7], [1, 11], [1, 15, 7]] \n",
        "count=0\n",
        "for i in range(len(list1)): \n",
        "  if 7 in list1[i]: \n",
        "    count+=1\n",
        "print(count)"
      ],
      "metadata": {
        "id": "6RJ9XjOhaMBW",
        "colab": {
          "base_uri": "https://localhost:8080/"
        },
        "outputId": "ce39f191-aac0-4d2b-d438-98ce5591884e"
      },
      "execution_count": null,
      "outputs": [
        {
          "output_type": "stream",
          "name": "stdout",
          "text": [
            "2\n"
          ]
        }
      ]
    },
    {
      "cell_type": "markdown",
      "source": [
        "Python: Sort each sublist of strings in a given list of lists|"
      ],
      "metadata": {
        "id": "6zuuh-QrZQH3"
      }
    },
    {
      "cell_type": "code",
      "source": [
        "list1 = [[1, 3], [5, 7,7], [1, 11], [1, 15, 7]] \n",
        "sort=list(map(sorted,list1))\n",
        "print(sort)"
      ],
      "metadata": {
        "id": "YHGbEiXLZfTY",
        "colab": {
          "base_uri": "https://localhost:8080/"
        },
        "outputId": "dd6ded67-1c12-45dc-e55c-e18a09d1f7a7"
      },
      "execution_count": null,
      "outputs": [
        {
          "output_type": "stream",
          "name": "stdout",
          "text": [
            "[[1, 3], [5, 7, 7], [1, 11], [1, 7, 15]]\n"
          ]
        }
      ]
    },
    {
      "cell_type": "markdown",
      "source": [
        "Python: Remove sublists from a given list of lists, which are outside a given range"
      ],
      "metadata": {
        "id": "q53vqXpBaUOt"
      }
    },
    {
      "cell_type": "code",
      "source": [
        "list1 = [[1, 3], [5, 7,7], [1, 11], [1, 15, 7]]\n",
        "left_range=10\n",
        "right_range=17\n",
        "\n",
        "result = [i for i in list1 if (min(i)>=left_range and max(i)<=right_range)]\n",
        "print(result)\n"
      ],
      "metadata": {
        "id": "UynW8XAhZfXI",
        "colab": {
          "base_uri": "https://localhost:8080/"
        },
        "outputId": "421f21f5-935a-43d4-e531-21e0dac92866"
      },
      "execution_count": null,
      "outputs": [
        {
          "output_type": "stream",
          "name": "stdout",
          "text": [
            "[]\n"
          ]
        }
      ]
    },
    {
      "cell_type": "code",
      "source": [],
      "metadata": {
        "id": "_xxBuBujZfaj"
      },
      "execution_count": null,
      "outputs": []
    },
    {
      "cell_type": "code",
      "source": [],
      "metadata": {
        "id": "rw0FuJymZfeH"
      },
      "execution_count": null,
      "outputs": []
    },
    {
      "cell_type": "code",
      "source": [],
      "metadata": {
        "id": "FKa8TGgoZfml"
      },
      "execution_count": null,
      "outputs": []
    },
    {
      "cell_type": "code",
      "source": [],
      "metadata": {
        "id": "IXZ8zBtEZWL2"
      },
      "execution_count": null,
      "outputs": []
    },
    {
      "cell_type": "code",
      "source": [],
      "metadata": {
        "id": "V7Mt5vOcZWPn"
      },
      "execution_count": null,
      "outputs": []
    },
    {
      "cell_type": "code",
      "source": [],
      "metadata": {
        "id": "b5mepnfEZWVo"
      },
      "execution_count": null,
      "outputs": []
    },
    {
      "cell_type": "code",
      "source": [],
      "metadata": {
        "id": "eMP9XoGsZWav"
      },
      "execution_count": null,
      "outputs": []
    },
    {
      "cell_type": "code",
      "source": [],
      "metadata": {
        "id": "qTLk1pt8YsrD"
      },
      "execution_count": null,
      "outputs": []
    },
    {
      "cell_type": "code",
      "source": [],
      "metadata": {
        "id": "sOG9shF4YsxY"
      },
      "execution_count": null,
      "outputs": []
    },
    {
      "cell_type": "code",
      "source": [],
      "metadata": {
        "id": "9nGcUbgrYs3w"
      },
      "execution_count": null,
      "outputs": []
    },
    {
      "cell_type": "code",
      "source": [],
      "metadata": {
        "id": "19PJwXieYtAA"
      },
      "execution_count": null,
      "outputs": []
    },
    {
      "cell_type": "code",
      "source": [],
      "metadata": {
        "id": "xk75EnjEOq-0"
      },
      "execution_count": null,
      "outputs": []
    },
    {
      "cell_type": "code",
      "source": [],
      "metadata": {
        "id": "2ZW-IQ62OrGd"
      },
      "execution_count": null,
      "outputs": []
    },
    {
      "cell_type": "code",
      "source": [],
      "metadata": {
        "id": "OlpAkXpVOrQQ"
      },
      "execution_count": null,
      "outputs": []
    },
    {
      "cell_type": "code",
      "source": [],
      "metadata": {
        "id": "09A_mfhaOrV1"
      },
      "execution_count": null,
      "outputs": []
    },
    {
      "cell_type": "code",
      "source": [],
      "metadata": {
        "id": "GpY1pKj8OraC"
      },
      "execution_count": null,
      "outputs": []
    },
    {
      "cell_type": "code",
      "source": [],
      "metadata": {
        "id": "YokMxvxwOreM"
      },
      "execution_count": null,
      "outputs": []
    },
    {
      "cell_type": "code",
      "source": [],
      "metadata": {
        "id": "kVmRoU0gOriz"
      },
      "execution_count": null,
      "outputs": []
    },
    {
      "cell_type": "code",
      "source": [],
      "metadata": {
        "id": "b8bdIjObOrnr"
      },
      "execution_count": null,
      "outputs": []
    },
    {
      "cell_type": "code",
      "source": [],
      "metadata": {
        "id": "y3LRSKi8Orr2"
      },
      "execution_count": null,
      "outputs": []
    },
    {
      "cell_type": "code",
      "source": [],
      "metadata": {
        "id": "EYYeQWaROsZZ"
      },
      "execution_count": null,
      "outputs": []
    },
    {
      "cell_type": "code",
      "source": [],
      "metadata": {
        "id": "VEQZJNRCOsdj"
      },
      "execution_count": null,
      "outputs": []
    },
    {
      "cell_type": "code",
      "source": [],
      "metadata": {
        "id": "-d_dRzFZOsmV"
      },
      "execution_count": null,
      "outputs": []
    },
    {
      "cell_type": "code",
      "source": [],
      "metadata": {
        "id": "IEz6YphROs6f"
      },
      "execution_count": null,
      "outputs": []
    }
  ]
}